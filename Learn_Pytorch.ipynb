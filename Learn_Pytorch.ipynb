{
  "nbformat": 4,
  "nbformat_minor": 0,
  "metadata": {
    "colab": {
      "provenance": [],
      "gpuType": "T4",
      "authorship_tag": "ABX9TyNMpOJpfcYjoTUBccbhHKCP",
      "include_colab_link": true
    },
    "kernelspec": {
      "name": "python3",
      "display_name": "Python 3"
    },
    "language_info": {
      "name": "python"
    },
    "accelerator": "GPU"
  },
  "cells": [
    {
      "cell_type": "markdown",
      "metadata": {
        "id": "view-in-github",
        "colab_type": "text"
      },
      "source": [
        "<a href=\"https://colab.research.google.com/github/KalharaBatangala/Learn-pytorch/blob/main/Learn_Pytorch.ipynb\" target=\"_parent\"><img src=\"https://colab.research.google.com/assets/colab-badge.svg\" alt=\"Open In Colab\"/></a>"
      ]
    },
    {
      "cell_type": "code",
      "execution_count": 1,
      "metadata": {
        "id": "xXlzAWrSHTRP"
      },
      "outputs": [],
      "source": [
        "import torch\n",
        "import numpy as np"
      ]
    },
    {
      "cell_type": "markdown",
      "source": [
        "**Pytorch basics**"
      ],
      "metadata": {
        "id": "2sJ9vu-yz14b"
      }
    },
    {
      "cell_type": "code",
      "source": [
        "print(torch.__version__)"
      ],
      "metadata": {
        "colab": {
          "base_uri": "https://localhost:8080/"
        },
        "id": "rrkpTvX7Hhz2",
        "outputId": "70962367-6936-423f-e1da-32f973c75077"
      },
      "execution_count": 2,
      "outputs": [
        {
          "output_type": "stream",
          "name": "stdout",
          "text": [
            "2.4.1+cu121\n"
          ]
        }
      ]
    },
    {
      "cell_type": "code",
      "source": [
        "mylist = [[1,2,3],[4,5,6]]\n",
        "\n",
        "#numpy array\n",
        "np1 = np.random.rand(3,5,5) # Random.rand no [] brackets\n",
        "np1\n"
      ],
      "metadata": {
        "colab": {
          "base_uri": "https://localhost:8080/"
        },
        "id": "YtJxsRTEHyGv",
        "outputId": "8f8adc46-5334-4f80-b4d5-8ebeed69d7fa"
      },
      "execution_count": 3,
      "outputs": [
        {
          "output_type": "execute_result",
          "data": {
            "text/plain": [
              "array([[[0.32009499, 0.095237  , 0.43790816, 0.26421476, 0.3242267 ],\n",
              "        [0.05143639, 0.68989192, 0.00113116, 0.67273965, 0.31476431],\n",
              "        [0.89694568, 0.79404487, 0.99579772, 0.91239119, 0.22537087],\n",
              "        [0.58827547, 0.89065089, 0.93024255, 0.91016683, 0.3838542 ],\n",
              "        [0.24898137, 0.72424161, 0.2472635 , 0.003079  , 0.27344315]],\n",
              "\n",
              "       [[0.73473866, 0.66235077, 0.73978761, 0.2247359 , 0.29918405],\n",
              "        [0.02900649, 0.40821577, 0.92675823, 0.17736635, 0.98947002],\n",
              "        [0.56141454, 0.53945129, 0.72633495, 0.85106542, 0.05428161],\n",
              "        [0.57392586, 0.33582027, 0.49584769, 0.12404809, 0.13585053],\n",
              "        [0.59656084, 0.94844158, 0.61652827, 0.63087781, 0.78286814]],\n",
              "\n",
              "       [[0.53814513, 0.21465881, 0.39086707, 0.871644  , 0.85603067],\n",
              "        [0.0827619 , 0.92372051, 0.49003807, 0.15899348, 0.28885169],\n",
              "        [0.21057632, 0.86880276, 0.21152123, 0.99541022, 0.4346262 ],\n",
              "        [0.52046952, 0.50577542, 0.79660426, 0.71743302, 0.62209207],\n",
              "        [0.42133339, 0.14487407, 0.81076028, 0.25276588, 0.51013146]]])"
            ]
          },
          "metadata": {},
          "execution_count": 3
        }
      ]
    },
    {
      "cell_type": "code",
      "source": [
        "# Using ones and Zeros\n",
        "ones = np.ones([2,3], dtype=int)  # Must need [] brackets in ones & zeros.\n",
        "ones                              # dtype can be specified in np.ones and np.zeros"
      ],
      "metadata": {
        "colab": {
          "base_uri": "https://localhost:8080/"
        },
        "id": "RwdPQUKc39nL",
        "outputId": "9c87313e-7ec0-4525-eb7c-5b9c34b35f9b"
      },
      "execution_count": 4,
      "outputs": [
        {
          "output_type": "execute_result",
          "data": {
            "text/plain": [
              "array([[1, 1, 1],\n",
              "       [1, 1, 1]])"
            ]
          },
          "metadata": {},
          "execution_count": 4
        }
      ]
    },
    {
      "cell_type": "code",
      "source": [
        "print(np1.dtype)   # Random has no arguement as dtype\n",
        "                   # Therefore always dtype=float64 (default)"
      ],
      "metadata": {
        "colab": {
          "base_uri": "https://localhost:8080/"
        },
        "id": "55E_HSgVKgV9",
        "outputId": "d6028a99-4560-439b-8e8e-02af7ec890f0"
      },
      "execution_count": 5,
      "outputs": [
        {
          "output_type": "stream",
          "name": "stdout",
          "text": [
            "float64\n"
          ]
        }
      ]
    },
    {
      "cell_type": "code",
      "source": [
        "ar_ones = torch.ones(5)\n",
        "print(ar_ones)\n",
        "print('No. of elements : ', torch.numel(ar_ones))\n",
        "torch.is_tensor(ar_ones)    # check whethr a tensor\n",
        "torch.is_storage(ar_ones)   # not an storage - False\n",
        "torch.is_nonzero(ar_ones[0])"
      ],
      "metadata": {
        "colab": {
          "base_uri": "https://localhost:8080/"
        },
        "id": "sNaNusC5AzZ8",
        "outputId": "44e27659-636f-4902-d6a6-ec773c743aec"
      },
      "execution_count": 6,
      "outputs": [
        {
          "output_type": "stream",
          "name": "stdout",
          "text": [
            "tensor([1., 1., 1., 1., 1.])\n",
            "No. of elements :  5\n"
          ]
        },
        {
          "output_type": "execute_result",
          "data": {
            "text/plain": [
              "True"
            ]
          },
          "metadata": {},
          "execution_count": 6
        }
      ]
    },
    {
      "cell_type": "code",
      "source": [
        "#torch.is_nonzero(ar_ones)\n",
        "# RuntimeError                              Traceback (most recent call last)\n",
        "# <ipython-input-30-011fd7f163f7> in <cell line: 1>()\n",
        "# ----> 1 torch.is_nonzero(ar_ones)\n",
        "\n",
        "# RuntimeError: Boolean value of Tensor with more than one value is ambiguous"
      ],
      "metadata": {
        "id": "Ti5JQX9HGDAb"
      },
      "execution_count": 7,
      "outputs": []
    },
    {
      "cell_type": "code",
      "source": [
        "tensor_2d = torch.rand(3,4)   # Doesn't matter whether [] is present or not in TENSOR\n",
        "tensor_2d\n",
        "\n",
        "tensor2d = torch.rand([3,4])\n",
        "print('tensor_2d\\n', tensor2d * 10)"
      ],
      "metadata": {
        "colab": {
          "base_uri": "https://localhost:8080/"
        },
        "id": "DUDXzbPEOXf5",
        "outputId": "d95dc483-fa9b-486c-f0ec-2528bc29eaa5"
      },
      "execution_count": 8,
      "outputs": [
        {
          "output_type": "stream",
          "name": "stdout",
          "text": [
            "tensor_2d\n",
            " tensor([[8.4748, 0.9884, 0.2945, 2.1477],\n",
            "        [4.7583, 0.8050, 3.9603, 3.5607],\n",
            "        [0.0482, 1.8726, 8.0177, 5.9640]])\n"
          ]
        }
      ]
    },
    {
      "cell_type": "code",
      "source": [
        "testing = torch.tensor([1,2.,3],  requires_grad=True, device=torch.device('cpu'))\n",
        "threads = torch.get_num_threads()\n",
        "print('Number of threads :',threads)\n",
        "testing"
      ],
      "metadata": {
        "colab": {
          "base_uri": "https://localhost:8080/"
        },
        "id": "2yIMNUUeeQY5",
        "outputId": "d85e4900-86aa-4e13-c7d4-1726535f63b1"
      },
      "execution_count": 9,
      "outputs": [
        {
          "output_type": "stream",
          "name": "stdout",
          "text": [
            "Number of threads : 1\n"
          ]
        },
        {
          "output_type": "execute_result",
          "data": {
            "text/plain": [
              "tensor([1., 2., 3.], requires_grad=True)"
            ]
          },
          "metadata": {},
          "execution_count": 9
        }
      ]
    },
    {
      "cell_type": "code",
      "source": [
        "check_grad = torch.is_grad_enabled()\n",
        "print(check_grad)\n",
        "torch.no_grad()\n",
        "print(torch.is_grad_enabled())\n"
      ],
      "metadata": {
        "colab": {
          "base_uri": "https://localhost:8080/"
        },
        "id": "KEdmsJqOgqkh",
        "outputId": "28e34008-f116-4bab-8215-c9e12160e8c7"
      },
      "execution_count": 10,
      "outputs": [
        {
          "output_type": "stream",
          "name": "stdout",
          "text": [
            "True\n",
            "True\n"
          ]
        }
      ]
    },
    {
      "cell_type": "code",
      "source": [
        "tensor_3d = torch.zeros(2,3,4)\n",
        "print(tensor_3d.dtype)\n",
        "tensor_3d"
      ],
      "metadata": {
        "colab": {
          "base_uri": "https://localhost:8080/"
        },
        "id": "1KV6c9N_OuET",
        "outputId": "0f35d69f-eb78-462a-bc7c-6193b3a570b2"
      },
      "execution_count": 11,
      "outputs": [
        {
          "output_type": "stream",
          "name": "stdout",
          "text": [
            "torch.float32\n"
          ]
        },
        {
          "output_type": "execute_result",
          "data": {
            "text/plain": [
              "tensor([[[0., 0., 0., 0.],\n",
              "         [0., 0., 0., 0.],\n",
              "         [0., 0., 0., 0.]],\n",
              "\n",
              "        [[0., 0., 0., 0.],\n",
              "         [0., 0., 0., 0.],\n",
              "         [0., 0., 0., 0.]]])"
            ]
          },
          "metadata": {},
          "execution_count": 11
        }
      ]
    },
    {
      "cell_type": "code",
      "source": [
        "#Create a tensor out of numpy array\n",
        "mytensor = torch.tensor(np1)\n",
        "mytensor"
      ],
      "metadata": {
        "colab": {
          "base_uri": "https://localhost:8080/"
        },
        "id": "s0p5zTqePijC",
        "outputId": "7d8fdc07-173a-47f5-9c65-3ca7c808a557"
      },
      "execution_count": 12,
      "outputs": [
        {
          "output_type": "execute_result",
          "data": {
            "text/plain": [
              "tensor([[[0.3201, 0.0952, 0.4379, 0.2642, 0.3242],\n",
              "         [0.0514, 0.6899, 0.0011, 0.6727, 0.3148],\n",
              "         [0.8969, 0.7940, 0.9958, 0.9124, 0.2254],\n",
              "         [0.5883, 0.8907, 0.9302, 0.9102, 0.3839],\n",
              "         [0.2490, 0.7242, 0.2473, 0.0031, 0.2734]],\n",
              "\n",
              "        [[0.7347, 0.6624, 0.7398, 0.2247, 0.2992],\n",
              "         [0.0290, 0.4082, 0.9268, 0.1774, 0.9895],\n",
              "         [0.5614, 0.5395, 0.7263, 0.8511, 0.0543],\n",
              "         [0.5739, 0.3358, 0.4958, 0.1240, 0.1359],\n",
              "         [0.5966, 0.9484, 0.6165, 0.6309, 0.7829]],\n",
              "\n",
              "        [[0.5381, 0.2147, 0.3909, 0.8716, 0.8560],\n",
              "         [0.0828, 0.9237, 0.4900, 0.1590, 0.2889],\n",
              "         [0.2106, 0.8688, 0.2115, 0.9954, 0.4346],\n",
              "         [0.5205, 0.5058, 0.7966, 0.7174, 0.6221],\n",
              "         [0.4213, 0.1449, 0.8108, 0.2528, 0.5101]]], dtype=torch.float64)"
            ]
          },
          "metadata": {},
          "execution_count": 12
        }
      ]
    },
    {
      "cell_type": "code",
      "source": [
        "#Create a tensor with specific data type\n",
        "mytensor = torch.zeros([2,3],dtype=torch.int64)\n",
        "mytensor\n",
        "\n",
        "cuda0 = torch.device('cuda:0')\n",
        "print(mytensor)\n",
        "cuda0"
      ],
      "metadata": {
        "colab": {
          "base_uri": "https://localhost:8080/"
        },
        "id": "R-RM9tCwddrr",
        "outputId": "ccafbbf7-86d1-43d4-ed31-028d5acff672"
      },
      "execution_count": 13,
      "outputs": [
        {
          "output_type": "stream",
          "name": "stdout",
          "text": [
            "tensor([[0, 0, 0],\n",
            "        [0, 0, 0]])\n"
          ]
        },
        {
          "output_type": "execute_result",
          "data": {
            "text/plain": [
              "device(type='cuda', index=0)"
            ]
          },
          "metadata": {},
          "execution_count": 13
        }
      ]
    },
    {
      "cell_type": "code",
      "source": [
        "torch.ones([4,4], dtype=torch.float64, device=cuda0)"
      ],
      "metadata": {
        "colab": {
          "base_uri": "https://localhost:8080/",
          "height": 280
        },
        "id": "dYiZHJqJRSFt",
        "outputId": "038f992e-b758-4944-8962-ece8f858c1d5"
      },
      "execution_count": 14,
      "outputs": [
        {
          "output_type": "error",
          "ename": "RuntimeError",
          "evalue": "Found no NVIDIA driver on your system. Please check that you have an NVIDIA GPU and installed a driver from http://www.nvidia.com/Download/index.aspx",
          "traceback": [
            "\u001b[0;31m---------------------------------------------------------------------------\u001b[0m",
            "\u001b[0;31mRuntimeError\u001b[0m                              Traceback (most recent call last)",
            "\u001b[0;32m<ipython-input-14-c7841aca4d61>\u001b[0m in \u001b[0;36m<cell line: 1>\u001b[0;34m()\u001b[0m\n\u001b[0;32m----> 1\u001b[0;31m \u001b[0mtorch\u001b[0m\u001b[0;34m.\u001b[0m\u001b[0mones\u001b[0m\u001b[0;34m(\u001b[0m\u001b[0;34m[\u001b[0m\u001b[0;36m4\u001b[0m\u001b[0;34m,\u001b[0m\u001b[0;36m4\u001b[0m\u001b[0;34m]\u001b[0m\u001b[0;34m,\u001b[0m \u001b[0mdtype\u001b[0m\u001b[0;34m=\u001b[0m\u001b[0mtorch\u001b[0m\u001b[0;34m.\u001b[0m\u001b[0mfloat64\u001b[0m\u001b[0;34m,\u001b[0m \u001b[0mdevice\u001b[0m\u001b[0;34m=\u001b[0m\u001b[0mcuda0\u001b[0m\u001b[0;34m)\u001b[0m\u001b[0;34m\u001b[0m\u001b[0;34m\u001b[0m\u001b[0m\n\u001b[0m",
            "\u001b[0;32m/usr/local/lib/python3.10/dist-packages/torch/cuda/__init__.py\u001b[0m in \u001b[0;36m_lazy_init\u001b[0;34m()\u001b[0m\n\u001b[1;32m    312\u001b[0m         \u001b[0;32mif\u001b[0m \u001b[0;34m\"CUDA_MODULE_LOADING\"\u001b[0m \u001b[0;32mnot\u001b[0m \u001b[0;32min\u001b[0m \u001b[0mos\u001b[0m\u001b[0;34m.\u001b[0m\u001b[0menviron\u001b[0m\u001b[0;34m:\u001b[0m\u001b[0;34m\u001b[0m\u001b[0;34m\u001b[0m\u001b[0m\n\u001b[1;32m    313\u001b[0m             \u001b[0mos\u001b[0m\u001b[0;34m.\u001b[0m\u001b[0menviron\u001b[0m\u001b[0;34m[\u001b[0m\u001b[0;34m\"CUDA_MODULE_LOADING\"\u001b[0m\u001b[0;34m]\u001b[0m \u001b[0;34m=\u001b[0m \u001b[0;34m\"LAZY\"\u001b[0m\u001b[0;34m\u001b[0m\u001b[0;34m\u001b[0m\u001b[0m\n\u001b[0;32m--> 314\u001b[0;31m         \u001b[0mtorch\u001b[0m\u001b[0;34m.\u001b[0m\u001b[0m_C\u001b[0m\u001b[0;34m.\u001b[0m\u001b[0m_cuda_init\u001b[0m\u001b[0;34m(\u001b[0m\u001b[0;34m)\u001b[0m\u001b[0;34m\u001b[0m\u001b[0;34m\u001b[0m\u001b[0m\n\u001b[0m\u001b[1;32m    315\u001b[0m         \u001b[0;31m# Some of the queued calls may reentrantly call _lazy_init();\u001b[0m\u001b[0;34m\u001b[0m\u001b[0;34m\u001b[0m\u001b[0m\n\u001b[1;32m    316\u001b[0m         \u001b[0;31m# we need to just return without initializing in that case.\u001b[0m\u001b[0;34m\u001b[0m\u001b[0;34m\u001b[0m\u001b[0m\n",
            "\u001b[0;31mRuntimeError\u001b[0m: Found no NVIDIA driver on your system. Please check that you have an NVIDIA GPU and installed a driver from http://www.nvidia.com/Download/index.aspx"
          ]
        }
      ]
    },
    {
      "cell_type": "markdown",
      "source": [
        "Content can be accessed and modified using slice and indexing"
      ],
      "metadata": {
        "id": "hAV3p6RrUuWY"
      }
    },
    {
      "cell_type": "code",
      "source": [
        "\n",
        "x = torch.tensor([[1,2,3], [4,5,6]])\n",
        "y = np.random.rand(2,3)\n",
        "print(x[1][0])\n",
        "print(y)\n",
        "print(y[1][1])\n",
        "z = torch.tensor(y)\n",
        "\n",
        "print(z[1][1])\n"
      ],
      "metadata": {
        "colab": {
          "base_uri": "https://localhost:8080/"
        },
        "id": "5Iy7nGwEeTTf",
        "outputId": "a513c725-fb18-45bc-8b31-5db285030e3d"
      },
      "execution_count": 15,
      "outputs": [
        {
          "output_type": "stream",
          "name": "stdout",
          "text": [
            "tensor(4)\n",
            "[[0.76201738 0.4029238  0.71026606]\n",
            " [0.57895191 0.8505963  0.34881784]]\n",
            "0.8505963031500745\n",
            "tensor(0.8506, dtype=torch.float64)\n"
          ]
        }
      ]
    },
    {
      "cell_type": "markdown",
      "source": [
        "Torch.tensor.item() :  get a Python number from a tensor containing a **single value**"
      ],
      "metadata": {
        "id": "Yd4El915DagA"
      }
    },
    {
      "cell_type": "code",
      "source": [
        "x = torch.tensor([[1]])\n",
        "x\n",
        "x.item()"
      ],
      "metadata": {
        "colab": {
          "base_uri": "https://localhost:8080/"
        },
        "id": "HVllzgNJDdfa",
        "outputId": "af0618e5-1d4d-4e27-96d8-1c045cec5867"
      },
      "execution_count": 16,
      "outputs": [
        {
          "output_type": "execute_result",
          "data": {
            "text/plain": [
              "1"
            ]
          },
          "metadata": {},
          "execution_count": 16
        }
      ]
    },
    {
      "cell_type": "code",
      "source": [
        "tnsr = torch.tensor([[1,-1],[1,1]],dtype=torch.float64, requires_grad=True)\n",
        "tnsr\n",
        "\n",
        "          # OR #\n",
        "tnsr = torch.tensor([[1.,-1.],[1.,1.]], requires_grad=True)\n",
        "tnsr"
      ],
      "metadata": {
        "colab": {
          "base_uri": "https://localhost:8080/"
        },
        "id": "jTXOW_LbEDar",
        "outputId": "02044447-1ad1-45b5-87c4-0a6e5d81c0af"
      },
      "execution_count": 17,
      "outputs": [
        {
          "output_type": "execute_result",
          "data": {
            "text/plain": [
              "tensor([[ 1., -1.],\n",
              "        [ 1.,  1.]], requires_grad=True)"
            ]
          },
          "metadata": {},
          "execution_count": 17
        }
      ]
    },
    {
      "cell_type": "code",
      "source": [
        "out = tnsr.pow(2).sum()\n",
        "out.backward()\n",
        "tnsr.grad"
      ],
      "metadata": {
        "colab": {
          "base_uri": "https://localhost:8080/"
        },
        "id": "Q7sFoX5sE_2Q",
        "outputId": "faa5ad0e-9e5d-4a73-fbe0-2599ef70ad90"
      },
      "execution_count": 18,
      "outputs": [
        {
          "output_type": "execute_result",
          "data": {
            "text/plain": [
              "tensor([[ 2., -2.],\n",
              "        [ 2.,  2.]])"
            ]
          },
          "metadata": {},
          "execution_count": 18
        }
      ]
    },
    {
      "cell_type": "code",
      "source": [
        "gpu = torch.cpu.current_device()\n",
        "cuda = torch.cuda.is_available()\n",
        "if cuda == True:\n",
        "  print('cuda is available')\n",
        "print('current device : ', torch.cuda.current_device())\n",
        "print('device count : ', torch.cuda.device_count())\n",
        "print('device name is : ', torch.cuda.get_device_name())\n",
        "device = torch.device('cuda:0')\n",
        "print('device properties : ', torch.cuda.get_device_properties(device))\n",
        "#print('Power drawn by GPU : ', torch.cuda.power_draw(device))\n"
      ],
      "metadata": {
        "colab": {
          "base_uri": "https://localhost:8080/",
          "height": 373
        },
        "id": "Cv3pzJ51G_6Q",
        "outputId": "1073dc95-bb3d-4b9f-b448-5876603a03f3"
      },
      "execution_count": 19,
      "outputs": [
        {
          "output_type": "error",
          "ename": "RuntimeError",
          "evalue": "Found no NVIDIA driver on your system. Please check that you have an NVIDIA GPU and installed a driver from http://www.nvidia.com/Download/index.aspx",
          "traceback": [
            "\u001b[0;31m---------------------------------------------------------------------------\u001b[0m",
            "\u001b[0;31mRuntimeError\u001b[0m                              Traceback (most recent call last)",
            "\u001b[0;32m<ipython-input-19-f6f072cfa48c>\u001b[0m in \u001b[0;36m<cell line: 5>\u001b[0;34m()\u001b[0m\n\u001b[1;32m      3\u001b[0m \u001b[0;32mif\u001b[0m \u001b[0mcuda\u001b[0m \u001b[0;34m==\u001b[0m \u001b[0;32mTrue\u001b[0m\u001b[0;34m:\u001b[0m\u001b[0;34m\u001b[0m\u001b[0;34m\u001b[0m\u001b[0m\n\u001b[1;32m      4\u001b[0m   \u001b[0mprint\u001b[0m\u001b[0;34m(\u001b[0m\u001b[0;34m'cuda is available'\u001b[0m\u001b[0;34m)\u001b[0m\u001b[0;34m\u001b[0m\u001b[0;34m\u001b[0m\u001b[0m\n\u001b[0;32m----> 5\u001b[0;31m \u001b[0mprint\u001b[0m\u001b[0;34m(\u001b[0m\u001b[0;34m'current device : '\u001b[0m\u001b[0;34m,\u001b[0m \u001b[0mtorch\u001b[0m\u001b[0;34m.\u001b[0m\u001b[0mcuda\u001b[0m\u001b[0;34m.\u001b[0m\u001b[0mcurrent_device\u001b[0m\u001b[0;34m(\u001b[0m\u001b[0;34m)\u001b[0m\u001b[0;34m)\u001b[0m\u001b[0;34m\u001b[0m\u001b[0;34m\u001b[0m\u001b[0m\n\u001b[0m\u001b[1;32m      6\u001b[0m \u001b[0mprint\u001b[0m\u001b[0;34m(\u001b[0m\u001b[0;34m'device count : '\u001b[0m\u001b[0;34m,\u001b[0m \u001b[0mtorch\u001b[0m\u001b[0;34m.\u001b[0m\u001b[0mcuda\u001b[0m\u001b[0;34m.\u001b[0m\u001b[0mdevice_count\u001b[0m\u001b[0;34m(\u001b[0m\u001b[0;34m)\u001b[0m\u001b[0;34m)\u001b[0m\u001b[0;34m\u001b[0m\u001b[0;34m\u001b[0m\u001b[0m\n\u001b[1;32m      7\u001b[0m \u001b[0mprint\u001b[0m\u001b[0;34m(\u001b[0m\u001b[0;34m'device name is : '\u001b[0m\u001b[0;34m,\u001b[0m \u001b[0mtorch\u001b[0m\u001b[0;34m.\u001b[0m\u001b[0mcuda\u001b[0m\u001b[0;34m.\u001b[0m\u001b[0mget_device_name\u001b[0m\u001b[0;34m(\u001b[0m\u001b[0;34m)\u001b[0m\u001b[0;34m)\u001b[0m\u001b[0;34m\u001b[0m\u001b[0;34m\u001b[0m\u001b[0m\n",
            "\u001b[0;32m/usr/local/lib/python3.10/dist-packages/torch/cuda/__init__.py\u001b[0m in \u001b[0;36mcurrent_device\u001b[0;34m()\u001b[0m\n\u001b[1;32m    876\u001b[0m \u001b[0;32mdef\u001b[0m \u001b[0mcurrent_device\u001b[0m\u001b[0;34m(\u001b[0m\u001b[0;34m)\u001b[0m \u001b[0;34m->\u001b[0m \u001b[0mint\u001b[0m\u001b[0;34m:\u001b[0m\u001b[0;34m\u001b[0m\u001b[0;34m\u001b[0m\u001b[0m\n\u001b[1;32m    877\u001b[0m     \u001b[0;34mr\"\"\"Return the index of a currently selected device.\"\"\"\u001b[0m\u001b[0;34m\u001b[0m\u001b[0;34m\u001b[0m\u001b[0m\n\u001b[0;32m--> 878\u001b[0;31m     \u001b[0m_lazy_init\u001b[0m\u001b[0;34m(\u001b[0m\u001b[0;34m)\u001b[0m\u001b[0;34m\u001b[0m\u001b[0;34m\u001b[0m\u001b[0m\n\u001b[0m\u001b[1;32m    879\u001b[0m     \u001b[0;32mreturn\u001b[0m \u001b[0mtorch\u001b[0m\u001b[0;34m.\u001b[0m\u001b[0m_C\u001b[0m\u001b[0;34m.\u001b[0m\u001b[0m_cuda_getDevice\u001b[0m\u001b[0;34m(\u001b[0m\u001b[0;34m)\u001b[0m\u001b[0;34m\u001b[0m\u001b[0;34m\u001b[0m\u001b[0m\n\u001b[1;32m    880\u001b[0m \u001b[0;34m\u001b[0m\u001b[0m\n",
            "\u001b[0;32m/usr/local/lib/python3.10/dist-packages/torch/cuda/__init__.py\u001b[0m in \u001b[0;36m_lazy_init\u001b[0;34m()\u001b[0m\n\u001b[1;32m    312\u001b[0m         \u001b[0;32mif\u001b[0m \u001b[0;34m\"CUDA_MODULE_LOADING\"\u001b[0m \u001b[0;32mnot\u001b[0m \u001b[0;32min\u001b[0m \u001b[0mos\u001b[0m\u001b[0;34m.\u001b[0m\u001b[0menviron\u001b[0m\u001b[0;34m:\u001b[0m\u001b[0;34m\u001b[0m\u001b[0;34m\u001b[0m\u001b[0m\n\u001b[1;32m    313\u001b[0m             \u001b[0mos\u001b[0m\u001b[0;34m.\u001b[0m\u001b[0menviron\u001b[0m\u001b[0;34m[\u001b[0m\u001b[0;34m\"CUDA_MODULE_LOADING\"\u001b[0m\u001b[0;34m]\u001b[0m \u001b[0;34m=\u001b[0m \u001b[0;34m\"LAZY\"\u001b[0m\u001b[0;34m\u001b[0m\u001b[0;34m\u001b[0m\u001b[0m\n\u001b[0;32m--> 314\u001b[0;31m         \u001b[0mtorch\u001b[0m\u001b[0;34m.\u001b[0m\u001b[0m_C\u001b[0m\u001b[0;34m.\u001b[0m\u001b[0m_cuda_init\u001b[0m\u001b[0;34m(\u001b[0m\u001b[0;34m)\u001b[0m\u001b[0;34m\u001b[0m\u001b[0;34m\u001b[0m\u001b[0m\n\u001b[0m\u001b[1;32m    315\u001b[0m         \u001b[0;31m# Some of the queued calls may reentrantly call _lazy_init();\u001b[0m\u001b[0;34m\u001b[0m\u001b[0;34m\u001b[0m\u001b[0m\n\u001b[1;32m    316\u001b[0m         \u001b[0;31m# we need to just return without initializing in that case.\u001b[0m\u001b[0;34m\u001b[0m\u001b[0;34m\u001b[0m\u001b[0m\n",
            "\u001b[0;31mRuntimeError\u001b[0m: Found no NVIDIA driver on your system. Please check that you have an NVIDIA GPU and installed a driver from http://www.nvidia.com/Download/index.aspx"
          ]
        }
      ]
    },
    {
      "cell_type": "markdown",
      "source": [
        "**Basic Math Operations**"
      ],
      "metadata": {
        "id": "vlWH0kzJuvgS"
      }
    },
    {
      "cell_type": "code",
      "source": [
        "tensor_a = torch.tensor([1,2,3,4])\n",
        "tensor_b = torch.tensor([4,5,6,7])\n",
        "\n",
        "print(torch.add(tensor_a, tensor_b))\n",
        "print(torch.mul(tensor_a , tensor_b))\n",
        "print(torch.divide(tensor_a , tensor_b))\n",
        "print(torch.remainder(tensor_b, tensor_a))\n",
        "print(torch.pow(tensor_a, tensor_b))"
      ],
      "metadata": {
        "id": "Ge6QiLAUKkaS",
        "colab": {
          "base_uri": "https://localhost:8080/"
        },
        "outputId": "bcf3e45f-81e0-4b91-a850-8f5dad97a338"
      },
      "execution_count": 20,
      "outputs": [
        {
          "output_type": "stream",
          "name": "stdout",
          "text": [
            "tensor([ 5,  7,  9, 11])\n",
            "tensor([ 4, 10, 18, 28])\n",
            "tensor([0.2500, 0.4000, 0.5000, 0.5714])\n",
            "tensor([0, 1, 0, 3])\n",
            "tensor([    1,    32,   729, 16384])\n"
          ]
        }
      ]
    },
    {
      "cell_type": "code",
      "source": [
        "tens = torch.tensor([12,4,7])\n",
        "tens\n",
        "tens.shape"
      ],
      "metadata": {
        "colab": {
          "base_uri": "https://localhost:8080/"
        },
        "id": "eLPVAGOlauGq",
        "outputId": "b061c8fd-f99e-423b-88b7-54c8fd562f27"
      },
      "execution_count": 21,
      "outputs": [
        {
          "output_type": "execute_result",
          "data": {
            "text/plain": [
              "torch.Size([3])"
            ]
          },
          "metadata": {},
          "execution_count": 21
        }
      ]
    },
    {
      "cell_type": "code",
      "source": [
        "my_tensor = torch.randn(3)\n",
        "print(my_tensor)\n",
        "my_tensor = torch.mul(my_tensor, 100)\n",
        "my_tensor = torch.abs(my_tensor)    # Get the absolute value\n",
        "# my_tensor = torch.mul(my_tensor, 100)\n",
        "# my_tensor\n",
        "print('Rounded values : ',torch.round(my_tensor))\n",
        "torch.max(my_tensor)"
      ],
      "metadata": {
        "colab": {
          "base_uri": "https://localhost:8080/"
        },
        "id": "a9patke57IvD",
        "outputId": "54654468-7ba4-44ef-ddcf-3301f50a6b1c"
      },
      "execution_count": 49,
      "outputs": [
        {
          "output_type": "stream",
          "name": "stdout",
          "text": [
            "tensor([-0.2379,  0.7699,  0.9192])\n",
            "Rounded values :  tensor([24., 77., 92.])\n"
          ]
        },
        {
          "output_type": "execute_result",
          "data": {
            "text/plain": [
              "tensor(91.9165)"
            ]
          },
          "metadata": {},
          "execution_count": 49
        }
      ]
    },
    {
      "cell_type": "code",
      "source": [
        "prod_this = torch.tensor([1,2,3,4,5])\n",
        "torch.prod(prod_this)\n",
        "seven20 = torch.arange(1,7)\n",
        "seven20\n",
        "torch.prod(seven20)"
      ],
      "metadata": {
        "colab": {
          "base_uri": "https://localhost:8080/"
        },
        "id": "JgxM1pYmDkl4",
        "outputId": "7f2245df-bd3c-4205-b842-a33a957d2ab4"
      },
      "execution_count": 52,
      "outputs": [
        {
          "output_type": "execute_result",
          "data": {
            "text/plain": [
              "tensor(720)"
            ]
          },
          "metadata": {},
          "execution_count": 52
        }
      ]
    }
  ]
}