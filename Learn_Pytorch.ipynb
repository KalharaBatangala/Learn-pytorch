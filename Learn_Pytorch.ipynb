{
  "nbformat": 4,
  "nbformat_minor": 0,
  "metadata": {
    "colab": {
      "provenance": [],
      "authorship_tag": "ABX9TyNSLX9d6PwKhcg7qHZEKjbl",
      "include_colab_link": true
    },
    "kernelspec": {
      "name": "python3",
      "display_name": "Python 3"
    },
    "language_info": {
      "name": "python"
    }
  },
  "cells": [
    {
      "cell_type": "markdown",
      "metadata": {
        "id": "view-in-github",
        "colab_type": "text"
      },
      "source": [
        "<a href=\"https://colab.research.google.com/github/KalharaBatangala/Learn-pytorch/blob/main/Learn_Pytorch.ipynb\" target=\"_parent\"><img src=\"https://colab.research.google.com/assets/colab-badge.svg\" alt=\"Open In Colab\"/></a>"
      ]
    },
    {
      "cell_type": "code",
      "execution_count": null,
      "metadata": {
        "id": "xXlzAWrSHTRP"
      },
      "outputs": [],
      "source": [
        "import torch\n",
        "import numpy as np"
      ]
    },
    {
      "cell_type": "markdown",
      "source": [
        "**Pytorch basics**"
      ],
      "metadata": {
        "id": "2sJ9vu-yz14b"
      }
    },
    {
      "cell_type": "code",
      "source": [
        "print(torch.__version__)"
      ],
      "metadata": {
        "colab": {
          "base_uri": "https://localhost:8080/"
        },
        "id": "rrkpTvX7Hhz2",
        "outputId": "ad9439cd-bea3-4e34-9a65-3bb7d07b342f"
      },
      "execution_count": null,
      "outputs": [
        {
          "output_type": "stream",
          "name": "stdout",
          "text": [
            "2.4.0+cu121\n"
          ]
        }
      ]
    },
    {
      "cell_type": "code",
      "source": [
        "mylist = [[1,2,3],[4,5,6]]\n",
        "\n",
        "#numpy array\n",
        "np1 = np.random.rand(3,4)\n",
        "np1\n"
      ],
      "metadata": {
        "colab": {
          "base_uri": "https://localhost:8080/"
        },
        "id": "YtJxsRTEHyGv",
        "outputId": "474ce0b0-11d2-4c72-a9aa-3cc4e993d1d5"
      },
      "execution_count": null,
      "outputs": [
        {
          "output_type": "execute_result",
          "data": {
            "text/plain": [
              "array([[0.03537417, 0.00289237, 0.63428392, 0.72477867],\n",
              "       [0.08484962, 0.5897789 , 0.70281749, 0.79880552],\n",
              "       [0.32998325, 0.09015048, 0.81478014, 0.04599603]])"
            ]
          },
          "metadata": {},
          "execution_count": 27
        }
      ]
    },
    {
      "cell_type": "code",
      "source": [
        "print(np1.dtype)"
      ],
      "metadata": {
        "colab": {
          "base_uri": "https://localhost:8080/"
        },
        "id": "55E_HSgVKgV9",
        "outputId": "b0b7850c-6124-4516-f24d-0eac82fee207"
      },
      "execution_count": null,
      "outputs": [
        {
          "output_type": "stream",
          "name": "stdout",
          "text": [
            "float64\n"
          ]
        }
      ]
    },
    {
      "cell_type": "code",
      "source": [
        "tensor_2d = torch.rand(3,4)\n",
        "print(tensor_2d.dtype)\n",
        "tensor_2d\n"
      ],
      "metadata": {
        "colab": {
          "base_uri": "https://localhost:8080/"
        },
        "id": "DUDXzbPEOXf5",
        "outputId": "68819b65-5fb6-4418-f80e-d4ab9dfd892e"
      },
      "execution_count": null,
      "outputs": [
        {
          "output_type": "stream",
          "name": "stdout",
          "text": [
            "torch.float32\n"
          ]
        },
        {
          "output_type": "execute_result",
          "data": {
            "text/plain": [
              "tensor([[0.3443, 0.5810, 0.8273, 0.2734],\n",
              "        [0.1811, 0.2277, 0.4672, 0.1770],\n",
              "        [0.1084, 0.8196, 0.5005, 0.2053]])"
            ]
          },
          "metadata": {},
          "execution_count": 31
        }
      ]
    },
    {
      "cell_type": "code",
      "source": [
        "tensor_3d = torch.zeros(2,3,4)\n",
        "print(tensor_3d.dtype)\n",
        "tensor_3d"
      ],
      "metadata": {
        "colab": {
          "base_uri": "https://localhost:8080/"
        },
        "id": "1KV6c9N_OuET",
        "outputId": "30c63c4f-adfb-4e3f-97b1-c2ae6dca2d7a"
      },
      "execution_count": null,
      "outputs": [
        {
          "output_type": "stream",
          "name": "stdout",
          "text": [
            "torch.float32\n"
          ]
        },
        {
          "output_type": "execute_result",
          "data": {
            "text/plain": [
              "tensor([[[0., 0., 0., 0.],\n",
              "         [0., 0., 0., 0.],\n",
              "         [0., 0., 0., 0.]],\n",
              "\n",
              "        [[0., 0., 0., 0.],\n",
              "         [0., 0., 0., 0.],\n",
              "         [0., 0., 0., 0.]]])"
            ]
          },
          "metadata": {},
          "execution_count": 32
        }
      ]
    },
    {
      "cell_type": "code",
      "source": [
        "#Create a tensor out of numpy array\n",
        "mytensor = torch.tensor(np1)\n",
        "mytensor"
      ],
      "metadata": {
        "colab": {
          "base_uri": "https://localhost:8080/"
        },
        "id": "s0p5zTqePijC",
        "outputId": "a3b75f57-9cae-4713-a0c5-5da43f9fa531"
      },
      "execution_count": null,
      "outputs": [
        {
          "output_type": "execute_result",
          "data": {
            "text/plain": [
              "tensor([[0.0354, 0.0029, 0.6343, 0.7248],\n",
              "        [0.0848, 0.5898, 0.7028, 0.7988],\n",
              "        [0.3300, 0.0902, 0.8148, 0.0460]], dtype=torch.float64)"
            ]
          },
          "metadata": {},
          "execution_count": 33
        }
      ]
    },
    {
      "cell_type": "code",
      "source": [
        "#Create a tensor with specific data type\n",
        "mytensor = torch.zeros([2,3], dtype=torch.int32)\n",
        "mytensor\n",
        "\n",
        "cuda0 = torch.device('cuda:0')\n",
        "print(mytensor)\n",
        "print(cuda0)"
      ],
      "metadata": {
        "colab": {
          "base_uri": "https://localhost:8080/"
        },
        "id": "R-RM9tCwddrr",
        "outputId": "db5fb45f-b815-4960-e280-f11fab2661c0"
      },
      "execution_count": null,
      "outputs": [
        {
          "output_type": "stream",
          "name": "stdout",
          "text": [
            "tensor([[0, 0, 0],\n",
            "        [0, 0, 0]], dtype=torch.int32)\n",
            "cuda:0\n"
          ]
        }
      ]
    },
    {
      "cell_type": "code",
      "source": [
        "#Content can be accessed and modified using python slicing and indexing notations\n",
        "x = torch.tensor([[1,2,3], [4,5,6]])\n",
        "y = np.array([1,2,4])\n",
        "y"
      ],
      "metadata": {
        "colab": {
          "base_uri": "https://localhost:8080/"
        },
        "id": "5Iy7nGwEeTTf",
        "outputId": "67e203e7-51ed-4208-b259-3c848c03bd1a"
      },
      "execution_count": null,
      "outputs": [
        {
          "output_type": "execute_result",
          "data": {
            "text/plain": [
              "array([1, 2, 4])"
            ]
          },
          "metadata": {},
          "execution_count": 67
        }
      ]
    },
    {
      "cell_type": "code",
      "source": [
        "import math"
      ],
      "metadata": {
        "id": "gWnJuK8iynFC"
      },
      "execution_count": null,
      "outputs": []
    },
    {
      "cell_type": "code",
      "source": [
        "myl = np.array([[2,2,3,4,5],\n",
        "                [2,2,3,4,5]])\n",
        "\n",
        "myl.ndim #Return number of dimensions\n",
        "myl.shape # Return number of elements in each dimension   (2,5)\n",
        "len(myl.shape) == myl.ndim  # Is it the same as no. of dimensions?\n",
        "myl.size   # Total number of elements  (10)\n",
        "math.prod(myl.shape) == myl.size    # no. of elements is each dimension * no. of dimensions\n",
        "\n",
        "myl.dtype\n"
      ],
      "metadata": {
        "colab": {
          "base_uri": "https://localhost:8080/"
        },
        "id": "LYSdkVqmfY0q",
        "outputId": "20469040-f41a-4308-8cb3-52301f66de93"
      },
      "execution_count": null,
      "outputs": [
        {
          "output_type": "execute_result",
          "data": {
            "text/plain": [
              "dtype('int64')"
            ]
          },
          "metadata": {},
          "execution_count": 131
        }
      ]
    },
    {
      "cell_type": "markdown",
      "source": [
        "**Create a basic array**"
      ],
      "metadata": {
        "id": "2TrBsD1-zpKB"
      }
    },
    {
      "cell_type": "code",
      "source": [
        "array = np.zeros([2,3])\n",
        "array"
      ],
      "metadata": {
        "colab": {
          "base_uri": "https://localhost:8080/"
        },
        "id": "Pxumw3hJzsuK",
        "outputId": "b3b72430-103a-4ec7-a70b-f8d96e72210e"
      },
      "execution_count": null,
      "outputs": [
        {
          "output_type": "execute_result",
          "data": {
            "text/plain": [
              "array([[0., 0., 0.],\n",
              "       [0., 0., 0.]])"
            ]
          },
          "metadata": {},
          "execution_count": 147
        }
      ]
    },
    {
      "cell_type": "code",
      "source": [
        "array_ones = np.ones([3,2], dtype=int)\n",
        "array_ones"
      ],
      "metadata": {
        "colab": {
          "base_uri": "https://localhost:8080/"
        },
        "id": "MK7H4i-X0KN5",
        "outputId": "fb9b50c4-2665-4cee-a213-c48bd9cf4ff8"
      },
      "execution_count": null,
      "outputs": [
        {
          "output_type": "execute_result",
          "data": {
            "text/plain": [
              "array([[1, 1],\n",
              "       [1, 1],\n",
              "       [1, 1]])"
            ]
          },
          "metadata": {},
          "execution_count": 145
        }
      ]
    },
    {
      "cell_type": "code",
      "source": [
        "# Empty array\n",
        "array_emt = np.empty(3)  #Because of speed\n",
        "array_emt"
      ],
      "metadata": {
        "colab": {
          "base_uri": "https://localhost:8080/"
        },
        "id": "PqkZlCki0ycZ",
        "outputId": "8fc70350-16b5-4377-e95a-cd8284c02a57"
      },
      "execution_count": null,
      "outputs": [
        {
          "output_type": "execute_result",
          "data": {
            "text/plain": [
              "array([4.69791869e-310, 0.00000000e+000, 1.58101007e-322])"
            ]
          },
          "metadata": {},
          "execution_count": 151
        }
      ]
    },
    {
      "cell_type": "code",
      "source": [
        "# Range of elements\n"
      ],
      "metadata": {
        "id": "3Q8J3UYV1Oa5"
      },
      "execution_count": null,
      "outputs": []
    }
  ]
}