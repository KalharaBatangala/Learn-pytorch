{
  "nbformat": 4,
  "nbformat_minor": 0,
  "metadata": {
    "colab": {
      "provenance": [],
      "gpuType": "T4",
      "authorship_tag": "ABX9TyNaP0Nyz07lt6nnMKprnlAb",
      "include_colab_link": true
    },
    "kernelspec": {
      "name": "python3",
      "display_name": "Python 3"
    },
    "language_info": {
      "name": "python"
    },
    "accelerator": "GPU"
  },
  "cells": [
    {
      "cell_type": "markdown",
      "metadata": {
        "id": "view-in-github",
        "colab_type": "text"
      },
      "source": [
        "<a href=\"https://colab.research.google.com/github/KalharaBatangala/Learn-pytorch/blob/main/Learn_Pytorch.ipynb\" target=\"_parent\"><img src=\"https://colab.research.google.com/assets/colab-badge.svg\" alt=\"Open In Colab\"/></a>"
      ]
    },
    {
      "cell_type": "code",
      "execution_count": 1,
      "metadata": {
        "id": "xXlzAWrSHTRP"
      },
      "outputs": [],
      "source": [
        "import torch\n",
        "import numpy as np"
      ]
    },
    {
      "cell_type": "markdown",
      "source": [
        "**Pytorch basics**"
      ],
      "metadata": {
        "id": "2sJ9vu-yz14b"
      }
    },
    {
      "cell_type": "code",
      "source": [
        "print(torch.__version__)"
      ],
      "metadata": {
        "colab": {
          "base_uri": "https://localhost:8080/"
        },
        "id": "rrkpTvX7Hhz2",
        "outputId": "40f2b733-45bf-423d-ee83-6658260f190e"
      },
      "execution_count": 2,
      "outputs": [
        {
          "output_type": "stream",
          "name": "stdout",
          "text": [
            "2.4.0+cu121\n"
          ]
        }
      ]
    },
    {
      "cell_type": "code",
      "source": [
        "mylist = [[1,2,3],[4,5,6]]\n",
        "\n",
        "#numpy array\n",
        "np1 = np.random.rand(3,5,5) # Random.rand no [] brackets\n",
        "np1\n"
      ],
      "metadata": {
        "colab": {
          "base_uri": "https://localhost:8080/"
        },
        "id": "YtJxsRTEHyGv",
        "outputId": "6b5fc04e-469b-4535-8c7e-11a1f11da777"
      },
      "execution_count": 3,
      "outputs": [
        {
          "output_type": "execute_result",
          "data": {
            "text/plain": [
              "array([[[0.94856106, 0.31897173, 0.67718983, 0.54431131, 0.15047465],\n",
              "        [0.53180112, 0.90640311, 0.76948487, 0.66936463, 0.51773982],\n",
              "        [0.91159798, 0.22229462, 0.90864842, 0.45192912, 0.65541678],\n",
              "        [0.41203949, 0.82885632, 0.73123457, 0.09470693, 0.63401432],\n",
              "        [0.02602764, 0.5527561 , 0.29145815, 0.12867228, 0.95493016]],\n",
              "\n",
              "       [[0.49272303, 0.07256741, 0.25155679, 0.37699721, 0.01932041],\n",
              "        [0.47532207, 0.55337696, 0.75591096, 0.94545102, 0.81611688],\n",
              "        [0.53909853, 0.37584044, 0.42594131, 0.24727602, 0.35987514],\n",
              "        [0.14762025, 0.19676839, 0.91736292, 0.35393006, 0.55194439],\n",
              "        [0.46167414, 0.08197013, 0.91189746, 0.67489949, 0.62503106]],\n",
              "\n",
              "       [[0.55731221, 0.22778974, 0.85787942, 0.42238919, 0.52698078],\n",
              "        [0.0153719 , 0.03624964, 0.56143486, 0.16561464, 0.84061066],\n",
              "        [0.40789642, 0.17944832, 0.38747084, 0.26049908, 0.78400058],\n",
              "        [0.15630297, 0.15240669, 0.65677809, 0.11171625, 0.21867464],\n",
              "        [0.58746146, 0.74733223, 0.97456976, 0.34882299, 0.79017393]]])"
            ]
          },
          "metadata": {},
          "execution_count": 3
        }
      ]
    },
    {
      "cell_type": "code",
      "source": [
        "# Using ones and Zeros\n",
        "ones = np.ones([2,3], dtype=int)  # Must need [] brackets in ones & zeros.\n",
        "ones                              # dtype can be specified in np.ones and np.zeros"
      ],
      "metadata": {
        "colab": {
          "base_uri": "https://localhost:8080/"
        },
        "id": "RwdPQUKc39nL",
        "outputId": "07d4715e-ea75-487e-bcd4-9de47463a79e"
      },
      "execution_count": 4,
      "outputs": [
        {
          "output_type": "execute_result",
          "data": {
            "text/plain": [
              "array([[1, 1, 1],\n",
              "       [1, 1, 1]])"
            ]
          },
          "metadata": {},
          "execution_count": 4
        }
      ]
    },
    {
      "cell_type": "code",
      "source": [
        "print(np1.dtype)   # Random has no arguement as dtype\n",
        "                   # Therefore always dtype=float64 (default)"
      ],
      "metadata": {
        "colab": {
          "base_uri": "https://localhost:8080/"
        },
        "id": "55E_HSgVKgV9",
        "outputId": "b5d0bb49-fa9e-48db-804f-65d28c9856e8"
      },
      "execution_count": 5,
      "outputs": [
        {
          "output_type": "stream",
          "name": "stdout",
          "text": [
            "float64\n"
          ]
        }
      ]
    },
    {
      "cell_type": "code",
      "source": [
        "ar_ones = torch.ones(5)\n",
        "print(ar_ones)\n",
        "print('No. of elements : ', torch.numel(ar_ones))\n",
        "torch.is_tensor(ar_ones)    # check whethr a tensor\n",
        "torch.is_storage(ar_ones)   # not an storage - False\n",
        "torch.is_nonzero(ar_ones[0])"
      ],
      "metadata": {
        "colab": {
          "base_uri": "https://localhost:8080/"
        },
        "id": "sNaNusC5AzZ8",
        "outputId": "3443fda8-a209-4202-eea8-d806a87d38ce"
      },
      "execution_count": 33,
      "outputs": [
        {
          "output_type": "stream",
          "name": "stdout",
          "text": [
            "tensor([1., 1., 1., 1., 1.])\n",
            "No. of elements :  5\n"
          ]
        },
        {
          "output_type": "execute_result",
          "data": {
            "text/plain": [
              "True"
            ]
          },
          "metadata": {},
          "execution_count": 33
        }
      ]
    },
    {
      "cell_type": "code",
      "source": [
        "#torch.is_nonzero(ar_ones)\n",
        "# RuntimeError                              Traceback (most recent call last)\n",
        "# <ipython-input-30-011fd7f163f7> in <cell line: 1>()\n",
        "# ----> 1 torch.is_nonzero(ar_ones)\n",
        "\n",
        "# RuntimeError: Boolean value of Tensor with more than one value is ambiguous"
      ],
      "metadata": {
        "id": "Ti5JQX9HGDAb"
      },
      "execution_count": 31,
      "outputs": []
    },
    {
      "cell_type": "code",
      "source": [
        "tensor_2d = torch.rand(3,4)   # Doesn't matter whether [] is present or not in TENSOR\n",
        "tensor_2d\n",
        "\n",
        "tensor2d = torch.rand([3,4])\n",
        "print('tensor_2d\\n', tensor2d)"
      ],
      "metadata": {
        "colab": {
          "base_uri": "https://localhost:8080/"
        },
        "id": "DUDXzbPEOXf5",
        "outputId": "9119ae04-2e6c-4f23-8f11-326a70dfc6ab"
      },
      "execution_count": 6,
      "outputs": [
        {
          "output_type": "stream",
          "name": "stdout",
          "text": [
            "tensor_2d\n",
            " tensor([[0.4460, 0.8536, 0.2214, 0.4286],\n",
            "        [0.7192, 0.1617, 0.2713, 0.5714],\n",
            "        [0.2207, 0.7046, 0.7586, 0.5322]])\n"
          ]
        }
      ]
    },
    {
      "cell_type": "code",
      "source": [
        "tensor_3d = torch.zeros(2,3,4)\n",
        "print(tensor_3d.dtype)\n",
        "tensor_3d"
      ],
      "metadata": {
        "colab": {
          "base_uri": "https://localhost:8080/"
        },
        "id": "1KV6c9N_OuET",
        "outputId": "5a02988e-b3cf-4b39-99d1-1302261dc342"
      },
      "execution_count": 7,
      "outputs": [
        {
          "output_type": "stream",
          "name": "stdout",
          "text": [
            "torch.float32\n"
          ]
        },
        {
          "output_type": "execute_result",
          "data": {
            "text/plain": [
              "tensor([[[0., 0., 0., 0.],\n",
              "         [0., 0., 0., 0.],\n",
              "         [0., 0., 0., 0.]],\n",
              "\n",
              "        [[0., 0., 0., 0.],\n",
              "         [0., 0., 0., 0.],\n",
              "         [0., 0., 0., 0.]]])"
            ]
          },
          "metadata": {},
          "execution_count": 7
        }
      ]
    },
    {
      "cell_type": "code",
      "source": [
        "#Create a tensor out of numpy array\n",
        "mytensor = torch.tensor(np1)\n",
        "mytensor"
      ],
      "metadata": {
        "colab": {
          "base_uri": "https://localhost:8080/"
        },
        "id": "s0p5zTqePijC",
        "outputId": "17cf32c8-b802-41a2-d00f-efa93f29b750"
      },
      "execution_count": 8,
      "outputs": [
        {
          "output_type": "execute_result",
          "data": {
            "text/plain": [
              "tensor([[[0.9486, 0.3190, 0.6772, 0.5443, 0.1505],\n",
              "         [0.5318, 0.9064, 0.7695, 0.6694, 0.5177],\n",
              "         [0.9116, 0.2223, 0.9086, 0.4519, 0.6554],\n",
              "         [0.4120, 0.8289, 0.7312, 0.0947, 0.6340],\n",
              "         [0.0260, 0.5528, 0.2915, 0.1287, 0.9549]],\n",
              "\n",
              "        [[0.4927, 0.0726, 0.2516, 0.3770, 0.0193],\n",
              "         [0.4753, 0.5534, 0.7559, 0.9455, 0.8161],\n",
              "         [0.5391, 0.3758, 0.4259, 0.2473, 0.3599],\n",
              "         [0.1476, 0.1968, 0.9174, 0.3539, 0.5519],\n",
              "         [0.4617, 0.0820, 0.9119, 0.6749, 0.6250]],\n",
              "\n",
              "        [[0.5573, 0.2278, 0.8579, 0.4224, 0.5270],\n",
              "         [0.0154, 0.0362, 0.5614, 0.1656, 0.8406],\n",
              "         [0.4079, 0.1794, 0.3875, 0.2605, 0.7840],\n",
              "         [0.1563, 0.1524, 0.6568, 0.1117, 0.2187],\n",
              "         [0.5875, 0.7473, 0.9746, 0.3488, 0.7902]]], dtype=torch.float64)"
            ]
          },
          "metadata": {},
          "execution_count": 8
        }
      ]
    },
    {
      "cell_type": "code",
      "source": [
        "#Create a tensor with specific data type\n",
        "mytensor = torch.zeros([2,3],dtype=torch.int64)\n",
        "mytensor\n",
        "\n",
        "cuda0 = torch.device('cuda:0')\n",
        "print(mytensor)\n",
        "cuda0"
      ],
      "metadata": {
        "colab": {
          "base_uri": "https://localhost:8080/"
        },
        "id": "R-RM9tCwddrr",
        "outputId": "f257db92-c6fa-4746-efb3-5eaf4fb94bcc"
      },
      "execution_count": 9,
      "outputs": [
        {
          "output_type": "stream",
          "name": "stdout",
          "text": [
            "tensor([[0, 0, 0],\n",
            "        [0, 0, 0]])\n"
          ]
        },
        {
          "output_type": "execute_result",
          "data": {
            "text/plain": [
              "device(type='cuda', index=0)"
            ]
          },
          "metadata": {},
          "execution_count": 9
        }
      ]
    },
    {
      "cell_type": "code",
      "source": [
        "torch.ones([4,4], dtype=torch.float64, device=cuda0)"
      ],
      "metadata": {
        "colab": {
          "base_uri": "https://localhost:8080/"
        },
        "id": "dYiZHJqJRSFt",
        "outputId": "11939ea7-ec88-4c1b-9ac5-e9c125883142"
      },
      "execution_count": 10,
      "outputs": [
        {
          "output_type": "execute_result",
          "data": {
            "text/plain": [
              "tensor([[1., 1., 1., 1.],\n",
              "        [1., 1., 1., 1.],\n",
              "        [1., 1., 1., 1.],\n",
              "        [1., 1., 1., 1.]], device='cuda:0', dtype=torch.float64)"
            ]
          },
          "metadata": {},
          "execution_count": 10
        }
      ]
    },
    {
      "cell_type": "markdown",
      "source": [
        "Content can be accessed and modified using slice and indexing"
      ],
      "metadata": {
        "id": "hAV3p6RrUuWY"
      }
    },
    {
      "cell_type": "code",
      "source": [
        "\n",
        "x = torch.tensor([[1,2,3], [4,5,6]])\n",
        "y = np.random.rand(2,3)\n",
        "print(x[1][0])\n",
        "print(y)\n",
        "print(y[1][1])\n",
        "z = torch.tensor(y)\n",
        "\n",
        "print(z[1][1])\n"
      ],
      "metadata": {
        "colab": {
          "base_uri": "https://localhost:8080/"
        },
        "id": "5Iy7nGwEeTTf",
        "outputId": "5ccbcce8-a87f-4645-b6da-6f73d6388b8c"
      },
      "execution_count": 11,
      "outputs": [
        {
          "output_type": "stream",
          "name": "stdout",
          "text": [
            "tensor(4)\n",
            "[[0.78382261 0.93513598 0.63744038]\n",
            " [0.64500592 0.88683364 0.82597335]]\n",
            "0.886833635665953\n",
            "tensor(0.8868, dtype=torch.float64)\n"
          ]
        }
      ]
    },
    {
      "cell_type": "markdown",
      "source": [
        "Torch.tensor.item() :  get a Python number from a tensor containing a **single value**"
      ],
      "metadata": {
        "id": "Yd4El915DagA"
      }
    },
    {
      "cell_type": "code",
      "source": [
        "x = torch.tensor([[1]])\n",
        "x\n",
        "x.item()"
      ],
      "metadata": {
        "colab": {
          "base_uri": "https://localhost:8080/"
        },
        "id": "HVllzgNJDdfa",
        "outputId": "a14647e2-1ec0-4fac-9bc1-664f295ed4b8"
      },
      "execution_count": 12,
      "outputs": [
        {
          "output_type": "execute_result",
          "data": {
            "text/plain": [
              "1"
            ]
          },
          "metadata": {},
          "execution_count": 12
        }
      ]
    },
    {
      "cell_type": "code",
      "source": [
        "tnsr = torch.tensor([[1,-1],[1,1]],dtype=torch.float64, requires_grad=True)\n",
        "tnsr\n",
        "\n",
        "          # OR #\n",
        "tnsr = torch.tensor([[1.,-1.],[1.,1.]], requires_grad=True)\n",
        "tnsr"
      ],
      "metadata": {
        "colab": {
          "base_uri": "https://localhost:8080/"
        },
        "id": "jTXOW_LbEDar",
        "outputId": "6467e5c6-d424-4d2f-93e8-371f1cfaa1ad"
      },
      "execution_count": 13,
      "outputs": [
        {
          "output_type": "execute_result",
          "data": {
            "text/plain": [
              "tensor([[ 1., -1.],\n",
              "        [ 1.,  1.]], requires_grad=True)"
            ]
          },
          "metadata": {},
          "execution_count": 13
        }
      ]
    },
    {
      "cell_type": "code",
      "source": [
        "out = tnsr.pow(2).sum()\n",
        "out.backward()\n",
        "tnsr.grad"
      ],
      "metadata": {
        "colab": {
          "base_uri": "https://localhost:8080/"
        },
        "id": "Q7sFoX5sE_2Q",
        "outputId": "04d8973c-de3d-4f00-c9d8-cd9e4a561bdd"
      },
      "execution_count": 14,
      "outputs": [
        {
          "output_type": "execute_result",
          "data": {
            "text/plain": [
              "tensor([[ 2., -2.],\n",
              "        [ 2.,  2.]])"
            ]
          },
          "metadata": {},
          "execution_count": 14
        }
      ]
    },
    {
      "cell_type": "code",
      "source": [
        "gpu = torch.cpu.current_device()\n",
        "cuda = torch.cuda.is_available()\n",
        "if cuda == True:\n",
        "  print('cuda is available')\n",
        "print('current device : ', torch.cuda.current_device())\n",
        "print('device count : ', torch.cuda.device_count())\n",
        "print('device name is : ', torch.cuda.get_device_name())\n",
        "device = torch.device('cuda:0')\n",
        "print('device properties : ', torch.cuda.get_device_properties(device))\n",
        "#print('Power drawn by GPU : ', torch.cuda.power_draw(device))\n"
      ],
      "metadata": {
        "colab": {
          "base_uri": "https://localhost:8080/"
        },
        "id": "Cv3pzJ51G_6Q",
        "outputId": "0a84e656-c752-4069-e457-fbb5970c654f"
      },
      "execution_count": 15,
      "outputs": [
        {
          "output_type": "stream",
          "name": "stdout",
          "text": [
            "cuda is available\n",
            "current device :  0\n",
            "device count :  1\n",
            "device name is :  Tesla T4\n",
            "device properties :  _CudaDeviceProperties(name='Tesla T4', major=7, minor=5, total_memory=15102MB, multi_processor_count=40)\n"
          ]
        }
      ]
    },
    {
      "cell_type": "markdown",
      "source": [
        "**Basic Math Operations**"
      ],
      "metadata": {
        "id": "vlWH0kzJuvgS"
      }
    },
    {
      "cell_type": "code",
      "source": [
        "tensor_a = torch.tensor([1,2,3,4])\n",
        "tensor_b = torch.tensor([4,5,6,7])\n",
        "\n",
        "print(torch.add(tensor_a, tensor_b))\n",
        "print(torch.mul(tensor_a , tensor_b))\n",
        "print(torch.divide(tensor_a , tensor_b))\n",
        "print(torch.remainder(tensor_b, tensor_a))\n",
        "print(torch.pow(tensor_a, tensor_b))"
      ],
      "metadata": {
        "id": "Ge6QiLAUKkaS",
        "colab": {
          "base_uri": "https://localhost:8080/"
        },
        "outputId": "fff6ef2f-5102-4127-ae6a-6082e66dc12b"
      },
      "execution_count": 16,
      "outputs": [
        {
          "output_type": "stream",
          "name": "stdout",
          "text": [
            "tensor([ 5,  7,  9, 11])\n",
            "tensor([ 4, 10, 18, 28])\n",
            "tensor([0.2500, 0.4000, 0.5000, 0.5714])\n",
            "tensor([0, 1, 0, 3])\n",
            "tensor([    1,    32,   729, 16384])\n"
          ]
        }
      ]
    },
    {
      "cell_type": "code",
      "source": [
        "tens = torch.tensor([12,4,7])\n",
        "tens\n",
        "tens.shape"
      ],
      "metadata": {
        "colab": {
          "base_uri": "https://localhost:8080/"
        },
        "id": "eLPVAGOlauGq",
        "outputId": "9f4911de-7fae-4e1e-c433-b7949f65d33b"
      },
      "execution_count": 17,
      "outputs": [
        {
          "output_type": "execute_result",
          "data": {
            "text/plain": [
              "torch.Size([3])"
            ]
          },
          "metadata": {},
          "execution_count": 17
        }
      ]
    }
  ]
}